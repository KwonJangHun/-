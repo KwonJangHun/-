{
 "cells": [
  {
   "cell_type": "markdown",
   "id": "263dac81-da6c-48b7-ac9c-1c5f7214be6d",
   "metadata": {},
   "source": [
    "# 선택정렬"
   ]
  },
  {
   "cell_type": "code",
   "execution_count": 30,
   "id": "5270035e-a941-423d-a312-2ac3af97d1b6",
   "metadata": {},
   "outputs": [
    {
     "name": "stdout",
     "output_type": "stream",
     "text": [
      "[1, 2, 3, 4, 5, 6, 7, 8, 9]\n"
     ]
    }
   ],
   "source": [
    "array = [7,6,4,9,8,5,3,1,2]\n",
    "\n",
    "for i in range(len(array)):\n",
    "    min_index = i\n",
    "\n",
    "    for l in range(min_index+1, len(array)):\n",
    "        if array[min_index] > array[l]:\n",
    "            min_index = l\n",
    "    array[min_index], array[i] = array[i], array[min_index]\n",
    "print(array)\n",
    "                \n"
   ]
  },
  {
   "cell_type": "code",
   "execution_count": null,
   "id": "7717411e-20d3-48c5-9aee-9e2da22516dc",
   "metadata": {},
   "outputs": [],
   "source": []
  }
 ],
 "metadata": {
  "kernelspec": {
   "display_name": "Python 3 (ipykernel)",
   "language": "python",
   "name": "python3"
  },
  "language_info": {
   "codemirror_mode": {
    "name": "ipython",
    "version": 3
   },
   "file_extension": ".py",
   "mimetype": "text/x-python",
   "name": "python",
   "nbconvert_exporter": "python",
   "pygments_lexer": "ipython3",
   "version": "3.8.12"
  }
 },
 "nbformat": 4,
 "nbformat_minor": 5
}
