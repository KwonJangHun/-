{
 "cells": [
  {
   "cell_type": "markdown",
   "id": "1f0ef9cb-6c61-4527-9941-1894cc03f873",
   "metadata": {},
   "source": [
    "# 이진탐색"
   ]
  },
  {
   "cell_type": "code",
   "execution_count": 42,
   "id": "ca46764c-0073-40e7-ba85-6e63b5a50888",
   "metadata": {},
   "outputs": [
    {
     "name": "stdin",
     "output_type": "stream",
     "text": [
      " 4 6\n",
      " 19 15 10 17\n"
     ]
    }
   ],
   "source": [
    "n, m = map(int, input().split(' '))\n",
    "list1 = []\n",
    "\n",
    "list1 = list(map(int, input().split(' ')))"
   ]
  },
  {
   "cell_type": "code",
   "execution_count": 43,
   "id": "87ed66fa-35c4-4956-8db7-1aa2d245535d",
   "metadata": {},
   "outputs": [
    {
     "name": "stdout",
     "output_type": "stream",
     "text": [
      "15\n"
     ]
    }
   ],
   "source": [
    "start = 0\n",
    "end = max(list1)\n",
    "result = 0\n",
    "while True :\n",
    "    result = 0\n",
    "    mid = (end + start) // 2\n",
    "    \n",
    "    for i in list1:\n",
    "        if mid <= i:\n",
    "            result += i-mid\n",
    "    \n",
    "    if result == m:\n",
    "        print(mid)\n",
    "        break\n",
    "    elif result > m:\n",
    "        start = mid\n",
    "    else:\n",
    "        end -= 1\n",
    "            \n",
    "        \n",
    "        "
   ]
  },
  {
   "cell_type": "code",
   "execution_count": null,
   "id": "08d87051-3d37-464d-8847-1c2d0cb0172a",
   "metadata": {},
   "outputs": [],
   "source": []
  }
 ],
 "metadata": {
  "kernelspec": {
   "display_name": "Python 3 (ipykernel)",
   "language": "python",
   "name": "python3"
  },
  "language_info": {
   "codemirror_mode": {
    "name": "ipython",
    "version": 3
   },
   "file_extension": ".py",
   "mimetype": "text/x-python",
   "name": "python",
   "nbconvert_exporter": "python",
   "pygments_lexer": "ipython3",
   "version": "3.8.12"
  }
 },
 "nbformat": 4,
 "nbformat_minor": 5
}
