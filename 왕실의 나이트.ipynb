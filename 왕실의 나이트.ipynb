{
 "cells": [
  {
   "cell_type": "markdown",
   "id": "31df98d1-2c0d-4cf8-880a-eeb45d2b291e",
   "metadata": {},
   "source": [
    "# 2021.09.15 왕실의 나이트"
   ]
  },
  {
   "cell_type": "code",
   "execution_count": 41,
   "id": "a71778c6-bab4-42a9-8d47-61b088176341",
   "metadata": {
    "tags": []
   },
   "outputs": [
    {
     "name": "stdin",
     "output_type": "stream",
     "text": [
      "위치를 입력해주세요 :  b5\n"
     ]
    },
    {
     "name": "stdout",
     "output_type": "stream",
     "text": [
      "6\n"
     ]
    }
   ],
   "source": [
    "#for문\n",
    "list1 = []\n",
    "list1 = input('위치를 입력해주세요 : ')\n",
    "\n",
    "row = int(list1[1])\n",
    "col = ord(list1[0]) - ord('a') + 1\n",
    "\n",
    "steps = [[-1,-2],\n",
    "         [1,-2],\n",
    "         [-2,-1],\n",
    "         [-2,1],\n",
    "         [-1,2],\n",
    "         [1,2],\n",
    "         [2,-1],\n",
    "         [2,1]]\n",
    "\n",
    "num = 0\n",
    "for step in steps:\n",
    "    rows = row + step[1]\n",
    "    cols = col + step[0]\n",
    "    \n",
    "    if (1 <= rows <= 8) and (1 <= cols <=8) :\n",
    "        num += 1\n",
    "\n",
    "print(num)"
   ]
  },
  {
   "cell_type": "code",
   "execution_count": 40,
   "id": "0ee34d1e-d4ee-48c1-9209-1ca7cced75d5",
   "metadata": {
    "tags": []
   },
   "outputs": [
    {
     "name": "stdin",
     "output_type": "stream",
     "text": [
      "위치를 입력해주세요 :  d5\n"
     ]
    },
    {
     "name": "stdout",
     "output_type": "stream",
     "text": [
      "8\n"
     ]
    }
   ],
   "source": [
    "#While문\n",
    "list1 = []\n",
    "list1 = input('위치를 입력해주세요 : ')\n",
    "\n",
    "row = int(list1[1])\n",
    "col = ord(list1[0]) - ord('a') + 1\n",
    "\n",
    "steps = [[-1,-2],\n",
    "         [1,-2],\n",
    "         [-2,-1],\n",
    "         [-2,1],\n",
    "         [-1,2],\n",
    "         [1,2],\n",
    "         [2,-1],\n",
    "         [2,1]]\n",
    "\n",
    "a=0\n",
    "num = 0\n",
    "while True :\n",
    "    b=0\n",
    "    rows = row + steps[a][b]\n",
    "    b += 1\n",
    "    cols = col + steps[a][b]\n",
    "    if (1 <= rows <= 8) and (1 <= cols <=8) :\n",
    "        num += 1\n",
    "    if a==7:\n",
    "        print(num)\n",
    "        break\n",
    "    a+=1"
   ]
  }
 ],
 "metadata": {
  "kernelspec": {
   "display_name": "Python 3",
   "language": "python",
   "name": "python3"
  },
  "language_info": {
   "codemirror_mode": {
    "name": "ipython",
    "version": 3
   },
   "file_extension": ".py",
   "mimetype": "text/x-python",
   "name": "python",
   "nbconvert_exporter": "python",
   "pygments_lexer": "ipython3",
   "version": "3.8.8"
  }
 },
 "nbformat": 4,
 "nbformat_minor": 5
}
