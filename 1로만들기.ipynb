{
 "cells": [
  {
   "cell_type": "markdown",
   "id": "954496d5-5a4f-4f99-b307-8e25759918c4",
   "metadata": {},
   "source": [
    "# dynamic programing"
   ]
  },
  {
   "cell_type": "code",
   "execution_count": 33,
   "id": "8d05c360-553a-40ee-90ed-ad49d17ea633",
   "metadata": {},
   "outputs": [
    {
     "name": "stdin",
     "output_type": "stream",
     "text": [
      " 30000\n"
     ]
    },
    {
     "name": "stdout",
     "output_type": "stream",
     "text": [
      "8\n"
     ]
    }
   ],
   "source": [
    "x = int(input())\n",
    "\n",
    "d = [0]*30001\n",
    "\n",
    "for i in range(2,x+1):\n",
    "    d[i] = d[i-1] + 1\n",
    "    if i%2 == 0:\n",
    "        d[i] = min(d[i], d[i//2]+1)\n",
    "    if i%3 == 0:\n",
    "        d[i] = min(d[i], d[i//3]+1)\n",
    "    if i%5 == 0:\n",
    "        d[i] = min(d[i], d[i//5]+1)\n",
    "        \n",
    "print(d[x])"
   ]
  }
 ],
 "metadata": {
  "kernelspec": {
   "display_name": "Python 3 (ipykernel)",
   "language": "python",
   "name": "python3"
  },
  "language_info": {
   "codemirror_mode": {
    "name": "ipython",
    "version": 3
   },
   "file_extension": ".py",
   "mimetype": "text/x-python",
   "name": "python",
   "nbconvert_exporter": "python",
   "pygments_lexer": "ipython3",
   "version": "3.8.12"
  }
 },
 "nbformat": 4,
 "nbformat_minor": 5
}
