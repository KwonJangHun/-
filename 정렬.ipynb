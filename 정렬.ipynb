{
 "cells": [
  {
   "cell_type": "markdown",
   "id": "9c022f2d-3027-40c8-b313-0e112b38494e",
   "metadata": {},
   "source": [
    "# 2021.09.17 위에서 아래로"
   ]
  },
  {
   "cell_type": "code",
   "execution_count": 26,
   "id": "cb403591-15d0-443d-a86f-49f8422c78ed",
   "metadata": {},
   "outputs": [
    {
     "name": "stdin",
     "output_type": "stream",
     "text": [
      " 3\n",
      " 15\n",
      " 27\n",
      " 12\n"
     ]
    },
    {
     "name": "stdout",
     "output_type": "stream",
     "text": [
      "27 15 12 "
     ]
    }
   ],
   "source": [
    "list1 = []\n",
    "\n",
    "while 1 :\n",
    "    n = int(input())\n",
    "    if n < 1 or n >500 :\n",
    "        print('1~500값으로 입력해주세요')\n",
    "    else :\n",
    "        break\n",
    "\n",
    "for i in range(n):\n",
    "    list1.append(int(input()))\n",
    "    if list1[i] < 1 or list1[i] > 100000:\n",
    "        print('1~100,000값으로 입력해주세요')\n",
    "\n",
    "list1.sort(reverse = True)\n",
    "\n",
    "for l in range(len(list1)):\n",
    "    print(list1[l], end = ' ')"
   ]
  },
  {
   "cell_type": "markdown",
   "id": "0f1a9eef-a4e7-49af-81ab-2df82f7d7671",
   "metadata": {},
   "source": [
    "# 2021.09.17 성적이 낮은 순서로 학생 출력하기"
   ]
  },
  {
   "cell_type": "code",
   "execution_count": 42,
   "id": "24a5c3aa-ed6c-4824-8d4d-8104d4018a4b",
   "metadata": {},
   "outputs": [
    {
     "name": "stdin",
     "output_type": "stream",
     "text": [
      " 5\n",
      " ㄱ 88\n",
      " ㄴ 56\n",
      " ㄷ 77\n",
      " ㄹ 99\n",
      " ㅎ 15\n"
     ]
    },
    {
     "name": "stdout",
     "output_type": "stream",
     "text": [
      "ㅎ ㄴ ㄷ ㄱ ㄹ "
     ]
    }
   ],
   "source": [
    "list1 = []\n",
    "\n",
    "snum = int(input())\n",
    "\n",
    "for i in range(snum):\n",
    "    a = input().split(' ')\n",
    "    list1.append([a[0],int(a[1])])\n",
    "\n",
    "list1 = sorted(list1, key = lambda x : (x[1]))\n",
    "\n",
    "for l in range(snum):\n",
    "    print(list1[l][0],end = ' ')"
   ]
  },
  {
   "cell_type": "markdown",
   "id": "2d661e3a-4d24-4d7b-8cfb-de9c478aadb9",
   "metadata": {},
   "source": [
    "# 2021.09.17 두 배열의 원소 교체"
   ]
  },
  {
   "cell_type": "code",
   "execution_count": 57,
   "id": "8b112561-0f2d-478c-bdad-9fe632238c52",
   "metadata": {},
   "outputs": [
    {
     "name": "stdin",
     "output_type": "stream",
     "text": [
      " 5 3\n",
      " 1 2 5 4 3\n",
      " 5 5 6 6 5\n"
     ]
    },
    {
     "name": "stdout",
     "output_type": "stream",
     "text": [
      "26\n"
     ]
    }
   ],
   "source": [
    "list1 = []\n",
    "list2 = []\n",
    "sum = 0\n",
    "\n",
    "n,m = map(int, input().split())\n",
    "\n",
    "list1 = list(map(int, input().split()))\n",
    "list2 = list(map(int, input().split()))\n",
    "\n",
    "list1 = sorted(list1)\n",
    "list2 = sorted(list2,reverse=True)\n",
    "\n",
    "for i in range(m):\n",
    "    temp = list1[i]\n",
    "    list1[i] = list2[i]\n",
    "    list2[i] = temp\n",
    "    \n",
    "for l in range(n):\n",
    "    sum += list1[l]\n",
    "    \n",
    "\n",
    "print(sum)\n"
   ]
  },
  {
   "cell_type": "code",
   "execution_count": null,
   "id": "f01fb02f-bc5d-4a13-8569-fa7e6a716d4e",
   "metadata": {},
   "outputs": [],
   "source": []
  }
 ],
 "metadata": {
  "kernelspec": {
   "display_name": "Python 3",
   "language": "python",
   "name": "python3"
  },
  "language_info": {
   "codemirror_mode": {
    "name": "ipython",
    "version": 3
   },
   "file_extension": ".py",
   "mimetype": "text/x-python",
   "name": "python",
   "nbconvert_exporter": "python",
   "pygments_lexer": "ipython3",
   "version": "3.8.8"
  }
 },
 "nbformat": 4,
 "nbformat_minor": 5
}
