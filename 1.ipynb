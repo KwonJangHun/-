{
 "cells": [
  {
   "cell_type": "markdown",
   "id": "b14b4194-1a1b-466c-a9e4-ae5b0b93da90",
   "metadata": {},
   "source": [
    "# 2021.09.14 큰 수의 법칙"
   ]
  },
  {
   "cell_type": "code",
   "execution_count": 100,
   "id": "d804120e-9dc8-461e-bc5c-d7b2bb72bcce",
   "metadata": {
    "tags": []
   },
   "outputs": [
    {
     "name": "stdin",
     "output_type": "stream",
     "text": [
      "N값, M값, K값을 입력해주세요 :  5 8 3\n"
     ]
    }
   ],
   "source": [
    "while True :\n",
    "    list1 = []\n",
    "    list1 = input('N값, M값, K값을 입력해주세요 : ').split(' ')\n",
    "    N = int(list1[0])\n",
    "    M = int(list1[1])\n",
    "    K = int(list1[2])\n",
    "\n",
    "    if (N < 2 or N > 1000) :\n",
    "        print('N의 값을 2 ~ 1000의 자연수로 입력해주세요')\n",
    "        \n",
    "    elif (M < 1 or M > 10000) :\n",
    "        print('M의 값을 1 ~ 10000의 자연수로 입력해주세요')\n",
    "        \n",
    "    elif (K < 1 or K > 10000) :\n",
    "        print('K의 값을 1 ~ 10000의 자연수로 입력해주세요')\n",
    "        \n",
    "    elif (K > M) :\n",
    "        print('K의 값이 M보다 큽니다')\n",
    "        \n",
    "    else :\n",
    "        break"
   ]
  },
  {
   "cell_type": "code",
   "execution_count": 101,
   "id": "ecd06a00-e0bf-42ef-855d-4080c51f0b9b",
   "metadata": {},
   "outputs": [
    {
     "name": "stdin",
     "output_type": "stream",
     "text": [
      "N값 만큼의 자연수를 입력해 주세요 :  2 4 5 4 6\n"
     ]
    }
   ],
   "source": [
    "while True :\n",
    "    list2 = []\n",
    "    list2 = input('N값 만큼의 자연수를 입력해 주세요 : ').split(' ')\n",
    "\n",
    "    if (N != len(list2)) :\n",
    "        print('N값과 입력한 자연수의 개수가 다릅니다')\n",
    "        \n",
    "    else :\n",
    "        list2.sort(reverse=True)\n",
    "        num1 = list2[0]\n",
    "        num2 = list2[1]\n",
    "        break"
   ]
  },
  {
   "cell_type": "code",
   "execution_count": 106,
   "id": "0c2ac8a9-4824-4e92-b50e-62cbbb86b23b",
   "metadata": {},
   "outputs": [
    {
     "name": "stdout",
     "output_type": "stream",
     "text": [
      "6\n",
      "12\n",
      "18\n",
      "23\n",
      "29\n",
      "35\n",
      "41\n",
      "46\n",
      "46\n"
     ]
    }
   ],
   "source": [
    "num = 0\n",
    "x = 1\n",
    "\n",
    "for l in range(M) :\n",
    "    if ((K+1)/x != 1) :\n",
    "        num += int(num1)\n",
    "        x += 1\n",
    "        \n",
    "    else : \n",
    "        num += int(num2)\n",
    "        x = 1\n",
    "\n",
    "print(num)"
   ]
  },
  {
   "cell_type": "code",
   "execution_count": null,
   "id": "2e4727e8-8449-4e06-bf61-de4f82fc522f",
   "metadata": {},
   "outputs": [],
   "source": []
  }
 ],
 "metadata": {
  "kernelspec": {
   "display_name": "Python 3",
   "language": "python",
   "name": "python3"
  },
  "language_info": {
   "codemirror_mode": {
    "name": "ipython",
    "version": 3
   },
   "file_extension": ".py",
   "mimetype": "text/x-python",
   "name": "python",
   "nbconvert_exporter": "python",
   "pygments_lexer": "ipython3",
   "version": "3.8.8"
  }
 },
 "nbformat": 4,
 "nbformat_minor": 5
}
