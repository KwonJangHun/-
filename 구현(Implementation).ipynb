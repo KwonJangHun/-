{
 "cells": [
  {
   "cell_type": "markdown",
   "id": "b20eb588",
   "metadata": {
    "tags": []
   },
   "source": [
    "### 구현(Implementation)\n",
    "- 머릿속에 있는 알고리즘을 소스코드로 바꾸는 과정.\n",
    "- 완전 탐색 : 모든 경우의 수를 주저 없이 다 계산하는 해결 방법\n",
    "- 시뮬레이션 : 문제에서 제시한 알고리즘을 한 단게씩 차례대로 직접 수행"
   ]
  },
  {
   "cell_type": "markdown",
   "id": "187412ff",
   "metadata": {
    "tags": []
   },
   "source": [
    "### 대표 예시 문제\n",
    "#### 상하좌우\n",
    "여행가 A는 N X N 크기의 정사각형 공간 위에 서 있다. 이 공간은 1 X 1 크기의 정사각형으로 나누어져 있다. 가장 왼쪽 위 좌표는 (1,1)이며, 가장 오른쪽 아래 좌표는 (N,N)에 해당한다. 여행 A는 상, 하, 좌, 우 방향으로 이동할  수 있으며, 시작 좌표는 항상 (1,1)이다. 우리 앞에는 여행가 A가 이동할 계획이 적힌 계획서가 놓여있다.\n",
    "- L : 왼쪽으로 한 칸 이동.\n",
    "- R : 오른쪽으로 한 칸 이동.\n",
    "- U : 위로 한 칸 이동.\n",
    "- D : 아래로 한 칸 이동.\n",
    "\n",
    "이때 여행가 A가 정사각형 공간을 벗어나는 움직임은 무시된다.\n",
    "\n",
    "- 시작점 : (1,1)\n",
    "- R -> R -> R -> U -> D -> D\n",
    "- (1,2) -> (1,3) -> (1,4) -> (1,4) -> (2,4) -> (3,4) "
   ]
  },
  {
   "cell_type": "code",
   "execution_count": 1,
   "id": "d3364c09",
   "metadata": {},
   "outputs": [
    {
     "name": "stdout",
     "output_type": "stream",
     "text": [
      "5\n",
      "3 4\n"
     ]
    }
   ],
   "source": [
    "n = int(input())\n",
    "x, y = 1, 1\n",
    "plans = ['R', 'R', 'R', 'U', 'D', 'D']\n",
    "\n",
    "dx = [0, 0, -1, 1] \n",
    "dy = [-1, 1, 0, 0]\n",
    "move = ['L', 'R', 'U', 'D']\n",
    "\n",
    "for p in plans :\n",
    "    for i in range(len(move)) :\n",
    "        if p == move[i] :\n",
    "            nx = x + dx[i]\n",
    "            ny = y + dy[i]\n",
    "            \n",
    "    # 공간을 벗어나는 경우.\n",
    "    if nx < 1 or ny < 1 or nx > n or ny > n :\n",
    "        continue\n",
    "    x, y = nx, ny\n",
    "    \n",
    "print(x, y)"
   ]
  },
  {
   "cell_type": "markdown",
   "id": "d2b471a7",
   "metadata": {},
   "source": [
    "#### 시각\n",
    "정수 N이 입력되면 00시 00분 00초부터 N시 59분 59초까지의 모든 시각 중에서 3이 하나라도 포함되는 모든 경우의 수를 구하는 프로그램을 작성하시오. 예를 들어 1을 입력했을 때 다음은 3이 하나라도 포함되어 있으므로 세어야 하는 시각이다.\n",
    "\n",
    "- 완전탐색(Brute Forcing) 유형 : 비효율적인 시간 복잡도를 가짐.(데이터의 수가 100만개 이하일 때 권장)"
   ]
  },
  {
   "cell_type": "code",
   "execution_count": 2,
   "id": "e5d7cdc1",
   "metadata": {},
   "outputs": [
    {
     "name": "stdout",
     "output_type": "stream",
     "text": [
      "5\n",
      "11475\n"
     ]
    }
   ],
   "source": [
    "h = int(input())\n",
    "cnt = 0\n",
    "for i in range(h + 1) :\n",
    "    for j in range(60) :\n",
    "        for k in range(60) :\n",
    "            a = ''.join(list(map(str, [i,j,k])))\n",
    "            if '3' in a :\n",
    "                cnt += 1\n",
    "print(cnt)"
   ]
  },
  {
   "cell_type": "markdown",
   "id": "eb194b4d",
   "metadata": {},
   "source": [
    "#### 왕실의 나이트\n",
    "\n",
    "행복 왕국의 왕실정원은 체스판과 같은 8 X 8  좌표 평면이다. 왕실 정원의 특정한 한 칸에 나이트가 서 있다. 나이트는 매우 충성스러운 신하로서 매일 무술을 연마한다.\n",
    "나이트는 말을 타고 있기 때문에 이동을 할 때는 L자 형태로만 이동할 수 있으며, 정원 밖으로는 나갈 수 없다. 나이트는 특정한 위치에서 다음과 같은 2가지 경우로 이동할 수 있다.\n",
    "- 수평으로 두 칸 이동한 뒤에 수직으로 한 칸 이동하기.\n",
    "- 수직으로 두 칸 이동한 뒤에 수평으로 한 칸 이동하기.\n",
    "\n",
    "이처럼 8 X 8 좌표 평면상에서 나이트의 위치가 주어졌을 때 나이트가 이동할 수 있는 경우의 수를 출력하는 프로그램을 작성하시오. 이때 왕실의 정원에서 행 위치를 표현할 때는 1부터 8로 표현하며, 열 위치를 표현할 때는 a부터 h로 표현한다.\n",
    "\n",
    "예를 들어 만약 나이트가 a1에 있을 때 이동할 수 있는 경우의 수는 다음 2가지이다. a1의 위치는 좌표 평면에서 구석의 위치에 해당하며 나이트는 정원의 밖으로는 나갈 수 없기 때문이다.\n",
    "    - 오른쪽으로 두 칸 이동 후 아래로 한칸 이동하기(c2)\n",
    "    - 아래로 두칸 이동 후 오른쪽으로 한 칸 이동하기(b3)\n",
    "    \n",
    "또 다른 예로 나이트가 c2에 위치해 있다면 나이트가 이동할 수 있는 경우의 수는 6가지이다. \n"
   ]
  },
  {
   "cell_type": "markdown",
   "id": "865f2826",
   "metadata": {},
   "source": [
    "#### 왕실의 나이트 배치\n",
    "||a|b|c|d|e|f|g|h|\n",
    "|:---:|:---:|:---:|:---:|:---:|:---:|:---:|:---:|:---:|\n",
    "|**1**|(a,1)|(b,1)|(c,1)|(d,1)|(e,1)|(f,1)|(g,1)|(h,1)|\n",
    "|**2**|(a,2)|(b,2)|(c,2)|(d,2)|(e,2)|(f,2)|(g,2)|(h,2)|\n",
    "|**3**|(a,3)|(b,3)|(c,3)|(d,3)|(e,3)|(f,3)|(g,3)|(h,3)|\n",
    "|**4**|(a,4)|(b,4)|(c,4)|(d,4)|(e,4)|(f,4)|(g,4)|(h,4)|\n",
    "|**5**|(a,5)|(b,5)|(c,5)|(d,5)|(e,5)|(f,5)|(g,5)|(h,5)|\n",
    "|**6**|(a,6)|(b,6)|(c,6)|(d,6)|(e,6)|(f,6)|(g,6)|(h,6)|\n",
    "|**7**|(a,7)|(b,7)|(c,7)|(d,7)|(e,7)|(f,7)|(g,7)|(h,7)|\n",
    "|**8**|(a,8)|(b,8)|(c,8)|(d,8)|(e,8)|(f,8)|(g,8)|(h,8)|\n"
   ]
  },
  {
   "cell_type": "markdown",
   "id": "56db823c",
   "metadata": {},
   "source": [
    "#### 갈 수 있는 방향성\n",
    "#### 최대 이동 횟수 : 8회\n",
    "\n",
    "- 왼쪽 : 음수(-)\n",
    "- 오른쪽 : 양수(+)\n",
    "- 위쪽 : 음수(-)\n",
    "- 아래쪽 : 양수(+)\n",
    "\n",
    "\n",
    "\n",
    "- 수평으로 두 칸 이동한 뒤에 수직으로 한 칸 이동하기.\n",
    "    - 왼쪽으로 두 칸 위로 한 칸 : (-2, -1)\n",
    "    - 왼쪽으로 두 칸 아래로 한 칸 : (-2, 1)\n",
    "    - 오른쪽으로 두 칸 위로 한 칸 : (2, -1)\n",
    "    - 오른쪽으로 두 칸 아래로 한 칸 : (2, 1)\n",
    "---\n",
    "- 수직으로 두 칸 이동한 뒤에 수평으로 한 칸 이동하기.\n",
    "    - 위쪽으로 두 칸 왼쪽으로 한 칸 : (-1, -2)\n",
    "    - 위쪽으로 두 칸 오른쪽으로 한 칸 : (1, -2)\n",
    "    - 아래쪽으로 두 칸 왼쪽으로 한 칸 : (-1, 2)\n",
    "    - 아래쪽으로 두 칸 오른쪽으로 한 칸 : (1, 2)"
   ]
  },
  {
   "cell_type": "markdown",
   "id": "d3b9ef2d",
   "metadata": {},
   "source": [
    "#### 내 답안"
   ]
  },
  {
   "cell_type": "code",
   "execution_count": 3,
   "id": "80d3350c",
   "metadata": {},
   "outputs": [
    {
     "name": "stdout",
     "output_type": "stream",
     "text": [
      "a1\n",
      "2\n"
     ]
    }
   ],
   "source": [
    "alp_num = {'a':1, 'b':2, 'c':3, 'd':4, 'e':5, 'f':6, 'g':7}\n",
    "s = input()\n",
    "x, y  = alp_num.get(list(s)[0]),int(list(s)[-1])\n",
    "dx = [-2, -2, 2, 2, -1, 1, -1, 1] \n",
    "dy = [-1, 1, -1, 1, -2, -2, 2, 2]\n",
    "\n",
    "cnt = 8\n",
    "for i in range(8) :\n",
    "    nx = x + dx[i]\n",
    "    ny = y + dy[i]\n",
    "    \n",
    "    if nx < 1 or ny < 1 or nx > 8 or ny > 8 :\n",
    "        cnt -= 1\n",
    "        \n",
    "print(cnt)"
   ]
  },
  {
   "cell_type": "code",
   "execution_count": 4,
   "id": "6ec1e06a",
   "metadata": {},
   "outputs": [
    {
     "name": "stdout",
     "output_type": "stream",
     "text": [
      "c2\n",
      "6\n"
     ]
    }
   ],
   "source": [
    "alp_num = {'a':1, 'b':2, 'c':3, 'd':4, 'e':5, 'f':6, 'g':7}\n",
    "s = input()\n",
    "x, y  = alp_num.get(list(s)[0]),int(list(s)[-1])\n",
    "dx = [-2, -2, 2, 2, -1, 1, -1, 1] \n",
    "dy = [-1, 1, -1, 1, -2, -2, 2, 2]\n",
    "\n",
    "cnt = 8\n",
    "for i in range(8) :\n",
    "    nx = x + dx[i]\n",
    "    ny = y + dy[i]\n",
    "    \n",
    "    if nx < 1 or ny < 1 or nx > 8 or ny > 8 :\n",
    "        cnt -= 1\n",
    "        \n",
    "print(cnt)"
   ]
  },
  {
   "cell_type": "markdown",
   "id": "a4158e8e",
   "metadata": {},
   "source": [
    "#### 모법답안"
   ]
  },
  {
   "cell_type": "code",
   "execution_count": 5,
   "id": "66b8d1f3",
   "metadata": {},
   "outputs": [
    {
     "name": "stdout",
     "output_type": "stream",
     "text": [
      "a1\n",
      "2\n"
     ]
    }
   ],
   "source": [
    "data = input()\n",
    "row = int(data[1])\n",
    "col = int(ord(data[0])) -  int(ord('a')) + 1\n",
    "\n",
    "steps = [(-2, -1), (-1, -2), (1, -2), (2, -1), (2, 1), (1, 2), (-1, 2), (-2, 1)]\n",
    "\n",
    "result = 0\n",
    "for s in steps :\n",
    "    next_row = row + s[0]\n",
    "    next_col = col + s[1]\n",
    "    \n",
    "    if next_row >= 1 and next_row <= 8 and next_col >= 1 and next_col <= 8 :\n",
    "        result += 1\n",
    "print(result)"
   ]
  },
  {
   "cell_type": "markdown",
   "id": "5034fd3e",
   "metadata": {},
   "source": [
    "#### 게임개발\n",
    "현민이는 게임 캐릭터가 맵 안에서 움직이는 시스템을 개발 중이다. 캐릭터가 있는 장소는 1 X 1 크기의 정사각형으로 이뤄진 N X M 크기의 직사각형으로, 각각의 칸은 육지 또는 바다이다. 캐릭터는 동서남북 중 한 곳을 바라본다.\n",
    "\n",
    "맵의 각 칸은 (A, B)로 나타낼 수 있고, A는 북쪽으로부터 떨어진 칸의 개수, B는 서쪽으로부터 떨어진 칸의 개수이다. 캐릭터는 상하좌우로 움직일 수 있고, 바다로 되어 있는 공간에는 갈 수 없다. 캐릭터의 움직임을 설정하기 위해 정해 놓은 메뉴얼은 이러하다.\n",
    "\n",
    "- 현재 위치에서 현재 방향을 기준으로 왼쪽 방향(반시계 방향으로 90도 회전한 방향)부터 차례대로 갈 곳을 정한다.\n",
    "\n",
    "- 캐릭터의 바로 왼쪽 방향에 아직 가보지 않은 칸이 존재한다면, 왼쪽 방향으로 회전한 다음 왼쪽으로 한 칸을 전진한다. 왼쪽 방향에 가보지 않은 칸이 없다면, 왼쪽 방향으로 회전만 수행하고 1단계로 돌아간다.\n",
    "\n",
    "- 만약 네 방향 모두 이미 가본 칸이거나 바다로 되어 있는 경우에는, 바라보는 방향을 유지한 채로 한 칸 뒤로 가고 1단계로 돌아간다. 단, 이때 뒤쪽 방향이 바다인 칸이라 뒤로 갈 수 없는 경우에는 움직임을 멈춘다.\n",
    " \n",
    "현민이는 위 과정을 반복적으로 수행하면서 캐릭터의 움직임에 이상이 있는지 테스트하려고 한다. 매뉴얼에 따라 캐릭터를 이동시킨 뒤에, 캐릭터가 방문한 칸의 수를 출력하는 프로그램을 만드시오.\n",
    "\n",
    "- 첫째 줄에 맵의 세로 크기 N과 가로 크기 M을 공백으로 구분하여 입력한다.\n",
    "- 둘째 줄에 게임 캐릭터가 있는 칸의 좌표(A,B)와 바라보는 방향 d가 각각 서로 공백으로 구분하여 주어진다. 방향 d의 값으로는 다음과 같이 4가지가 존재한다.\n",
    "    - 0 : 북쪽\n",
    "    - 1 : 동쪽\n",
    "    - 2 : 남쪽\n",
    "    - 3 : 서쪽\n",
    "    \n",
    "- 셋째 줄부터 맵이 육지인지 바다인지에 대한 정보가 주어진다. N개의 줄에 맵의 상태가 북쪽부터 남쪽 순서대로, 각 줄의 데이터는 서쪽부터 동쪽 순서대로 주어진다. 맵의 외곽은 항상 바다로 되어 있다.\n",
    "    - 0 : 육지\n",
    "    - 1 : 바다\n",
    "    \n",
    "- 처음에 게임 캐릭터가 위치한 칸의 상태는 항상 육지이다."
   ]
  },
  {
   "cell_type": "code",
   "execution_count": 6,
   "id": "4f8840db",
   "metadata": {},
   "outputs": [
    {
     "name": "stdout",
     "output_type": "stream",
     "text": [
      "4 4\n"
     ]
    }
   ],
   "source": [
    "n, m = map(int, input().split())"
   ]
  },
  {
   "cell_type": "code",
   "execution_count": 22,
   "id": "a80aaf2e",
   "metadata": {},
   "outputs": [
    {
     "name": "stdout",
     "output_type": "stream",
     "text": [
      "1 1 0\n"
     ]
    }
   ],
   "source": [
    "a, b, d = map(int, input().split())"
   ]
  },
  {
   "cell_type": "code",
   "execution_count": 18,
   "id": "acfdb4f6",
   "metadata": {},
   "outputs": [
    {
     "name": "stdout",
     "output_type": "stream",
     "text": [
      "1 1 1 1\n",
      "1 0 0 1\n",
      "1 1 0 1\n",
      "1 1 1 1\n"
     ]
    }
   ],
   "source": [
    "array = [list(map(int, input().split())) for _ in range(n)]"
   ]
  },
  {
   "cell_type": "code",
   "execution_count": 24,
   "id": "a232a9fc",
   "metadata": {},
   "outputs": [
    {
     "data": {
      "text/plain": [
       "[[1, 1, 1, 1], [1, 0, 0, 1], [1, 1, 0, 1], [1, 1, 1, 1]]"
      ]
     },
     "execution_count": 24,
     "metadata": {},
     "output_type": "execute_result"
    }
   ],
   "source": [
    "array"
   ]
  },
  {
   "cell_type": "code",
   "execution_count": 23,
   "id": "05570a7b",
   "metadata": {},
   "outputs": [
    {
     "data": {
      "text/plain": [
       "0"
      ]
     },
     "execution_count": 23,
     "metadata": {},
     "output_type": "execute_result"
    }
   ],
   "source": [
    "array[a][b]"
   ]
  },
  {
   "cell_type": "code",
   "execution_count": 48,
   "id": "70c4e180",
   "metadata": {},
   "outputs": [
    {
     "data": {
      "text/plain": [
       "1"
      ]
     },
     "execution_count": 48,
     "metadata": {},
     "output_type": "execute_result"
    }
   ],
   "source": [
    "d = 0\n",
    "direction = [3, 2, 1, 0]\n",
    "array[a][b-1]"
   ]
  },
  {
   "cell_type": "code",
   "execution_count": null,
   "id": "4c3b6cf8",
   "metadata": {},
   "outputs": [],
   "source": [
    "def move(a, b, d) :\n",
    "    if d = 0 : \n",
    "        if array[a][b-1] != 1 :\n",
    "             d = direction[d]"
   ]
  },
  {
   "cell_type": "code",
   "execution_count": 28,
   "id": "74c5eab7",
   "metadata": {},
   "outputs": [
    {
     "data": {
      "text/plain": [
       "True"
      ]
     },
     "execution_count": 28,
     "metadata": {},
     "output_type": "execute_result"
    }
   ],
   "source": [
    "if array[a][b-1] != 0 : \n",
    "    d = direction[d]\n",
    "    "
   ]
  },
  {
   "cell_type": "code",
   "execution_count": 51,
   "id": "a544c4e0",
   "metadata": {},
   "outputs": [
    {
     "data": {
      "text/plain": [
       "0"
      ]
     },
     "execution_count": 51,
     "metadata": {},
     "output_type": "execute_result"
    }
   ],
   "source": [
    "array[a][b+1]\n"
   ]
  },
  {
   "cell_type": "code",
   "execution_count": 49,
   "id": "3927d794",
   "metadata": {},
   "outputs": [
    {
     "data": {
      "text/plain": [
       "1"
      ]
     },
     "execution_count": 49,
     "metadata": {},
     "output_type": "execute_result"
    }
   ],
   "source": [
    "# d = 0(북)\n",
    "array[a][b-1]\n",
    "\n",
    "# d = 3(서)\n",
    "array[a+1][b]\n",
    "\n",
    "# d = 2(남)\n",
    "array[a][b+1]\n",
    "\n",
    "# d = 1(동)\n",
    "array[a-1][b]"
   ]
  }
 ],
 "metadata": {
  "kernelspec": {
   "display_name": "Python 3 (ipykernel)",
   "language": "python",
   "name": "python3"
  },
  "language_info": {
   "codemirror_mode": {
    "name": "ipython",
    "version": 3
   },
   "file_extension": ".py",
   "mimetype": "text/x-python",
   "name": "python",
   "nbconvert_exporter": "python",
   "pygments_lexer": "ipython3",
   "version": "3.8.12"
  }
 },
 "nbformat": 4,
 "nbformat_minor": 5
}
