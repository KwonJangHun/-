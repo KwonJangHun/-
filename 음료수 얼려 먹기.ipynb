{
 "cells": [
  {
   "cell_type": "markdown",
   "id": "1b89634c-15be-4a3c-84f4-da526f26b291",
   "metadata": {},
   "source": [
    "# 2021.09.16 음료수 얼려 먹기(재귀함수)"
   ]
  },
  {
   "cell_type": "markdown",
   "id": "7c9555f4-095b-402b-9d18-b5d229a53ec7",
   "metadata": {},
   "source": [
    "DFS"
   ]
  },
  {
   "cell_type": "code",
   "execution_count": 28,
   "id": "e8a6a8ad-92b0-498a-8a41-b7db7ec43586",
   "metadata": {},
   "outputs": [
    {
     "name": "stdin",
     "output_type": "stream",
     "text": [
      "값을 입력해주세요 :  15 14\n",
      " 00000111100000\n",
      " 11111101111110\n",
      " 11011101101110\n",
      " 11011101100000\n",
      " 11011111111111\n",
      " 11011111111100\n",
      " 11000000011111\n",
      " 01111111111111\n",
      " 00000000011111\n",
      " 01111111111000\n",
      " 00011111111000\n",
      " 00000001111000\n",
      " 11111111110011\n",
      " 11100011111111\n",
      " 11100011111111\n"
     ]
    },
    {
     "name": "stdout",
     "output_type": "stream",
     "text": [
      "8\n"
     ]
    }
   ],
   "source": [
    "n,m = map(int, input('값을 입력해주세요 : ').split())\n",
    "\n",
    "graph = []\n",
    "for i in range(n):\n",
    "    graph.append(list(map(int, input())))\n",
    "    \n",
    "def ice(x,y):\n",
    "    if x < 0 or x >= n or y < 0 or y >= m:\n",
    "        return False\n",
    "    if graph[x][y] == 0:\n",
    "        graph[x][y] = 1\n",
    "        ice(x-1,y)\n",
    "        ice(x,y-1)\n",
    "        ice(x+1,y)\n",
    "        ice(x,y+1)\n",
    "        return True\n",
    "    return False\n",
    "\n",
    "result = 0\n",
    "for i in range(n):\n",
    "    for j in range(m):\n",
    "        if ice(i,j) == True:\n",
    "            result += 1\n",
    "print(result)\n"
   ]
  }
 ],
 "metadata": {
  "kernelspec": {
   "display_name": "Python 3 (ipykernel)",
   "language": "python",
   "name": "python3"
  },
  "language_info": {
   "codemirror_mode": {
    "name": "ipython",
    "version": 3
   },
   "file_extension": ".py",
   "mimetype": "text/x-python",
   "name": "python",
   "nbconvert_exporter": "python",
   "pygments_lexer": "ipython3",
   "version": "3.8.12"
  }
 },
 "nbformat": 4,
 "nbformat_minor": 5
}
