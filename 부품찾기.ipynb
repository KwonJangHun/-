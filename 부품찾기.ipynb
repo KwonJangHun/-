{
 "cells": [
  {
   "cell_type": "markdown",
   "id": "81f4c4c0-db58-49da-a614-9d2163cea6ab",
   "metadata": {},
   "source": [
    "# 서로 다른 리스트에 같은 값이 존재하는지 확인"
   ]
  },
  {
   "cell_type": "code",
   "execution_count": 46,
   "id": "07035180-78d7-4296-8b82-4f550aab555e",
   "metadata": {},
   "outputs": [
    {
     "name": "stdin",
     "output_type": "stream",
     "text": [
      "입력 :  5\n",
      "입력 :  3\n"
     ]
    },
    {
     "name": "stdout",
     "output_type": "stream",
     "text": [
      "no no no \n",
      " [811761, 699418, 310285, 751079, 434771] \n",
      " [744606, 859035, 526442]\n"
     ]
    }
   ],
   "source": [
    "import random as rd\n",
    "\n",
    "list1 = []\n",
    "list2 = []\n",
    "a = 0\n",
    "\n",
    "N = int(input('입력 : '))\n",
    "for i in range(N):\n",
    "    list1.append(rd.randint(1,1000000))\n",
    "M = int(input('입력 : '))\n",
    "for i in range(M):\n",
    "    list2.append(rd.randint(1,1000000))\n",
    "\n",
    "for i in range(M):\n",
    "    b = 0\n",
    "    for l in range(N):\n",
    "        if list1[l] == list2[a]:\n",
    "            b += 1\n",
    "    if b >= 1:\n",
    "        print('yes', end = ' ')\n",
    "    else:\n",
    "        print('no', end = ' ')\n",
    "    a += 1\n",
    "\n",
    "print('\\n',list1,'\\n',list2)\n"
   ]
  }
 ],
 "metadata": {
  "kernelspec": {
   "display_name": "Python 3 (ipykernel)",
   "language": "python",
   "name": "python3"
  },
  "language_info": {
   "codemirror_mode": {
    "name": "ipython",
    "version": 3
   },
   "file_extension": ".py",
   "mimetype": "text/x-python",
   "name": "python",
   "nbconvert_exporter": "python",
   "pygments_lexer": "ipython3",
   "version": "3.8.12"
  }
 },
 "nbformat": 4,
 "nbformat_minor": 5
}
