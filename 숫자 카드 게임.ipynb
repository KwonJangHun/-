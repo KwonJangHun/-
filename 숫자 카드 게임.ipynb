{
 "cells": [
  {
   "cell_type": "markdown",
   "id": "8bc5eada-e11d-44c6-9089-88fec9c996f5",
   "metadata": {},
   "source": [
    "# 2021.09.14 숫자 카드 게임"
   ]
  },
  {
   "cell_type": "code",
   "execution_count": 4,
   "id": "210ee4e5-f2d7-4955-957a-b8a5b28caba2",
   "metadata": {},
   "outputs": [
    {
     "name": "stdin",
     "output_type": "stream",
     "text": [
      "N값, M값을 입력해주세요 :  2 4\n",
      "N(행)값을 입력해주세요 :  7 3 1 8\n",
      "N(행)값을 입력해주세요 :  3 3 3 4\n"
     ]
    },
    {
     "name": "stdout",
     "output_type": "stream",
     "text": [
      "3\n"
     ]
    }
   ],
   "source": [
    "list1 = []\n",
    "num = 0\n",
    "n,m = map(int, input('N값, M값을 입력해주세요 : ').split(' '))\n",
    "\n",
    "while n != 0 :\n",
    "    list1 = list(map(int, input('N(행)값을 입력해주세요 : ').split(' ')))\n",
    "    if min(list1) >= num :\n",
    "        num = min(list1)\n",
    "        n -= 1\n",
    "        \n",
    "    else :\n",
    "        n -= 1\n",
    "print(num)"
   ]
  },
  {
   "cell_type": "code",
   "execution_count": null,
   "id": "d70e2b9b-8997-4d42-9b6d-b7ece35df47c",
   "metadata": {},
   "outputs": [],
   "source": []
  }
 ],
 "metadata": {
  "kernelspec": {
   "display_name": "Python 3",
   "language": "python",
   "name": "python3"
  },
  "language_info": {
   "codemirror_mode": {
    "name": "ipython",
    "version": 3
   },
   "file_extension": ".py",
   "mimetype": "text/x-python",
   "name": "python",
   "nbconvert_exporter": "python",
   "pygments_lexer": "ipython3",
   "version": "3.8.8"
  }
 },
 "nbformat": 4,
 "nbformat_minor": 5
}
